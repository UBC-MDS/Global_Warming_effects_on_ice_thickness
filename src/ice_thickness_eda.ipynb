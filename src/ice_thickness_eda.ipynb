{
 "cells": [
  {
   "cell_type": "markdown",
   "metadata": {},
   "source": [
    "# Summary of the data set\n",
    "\n",
    "The [data set](https://www.canada.ca/en/environment-climate-change/services/ice-forecasts-observations/latest-conditions/archive-overview/thickness-data.html) is from the Canadian Ice Thickness Program. The data has been collected weekly since 1947. The program was updated in 2002, so we are only looking at data prior to the update. Ice thickness is measured to the nearest centimetre using one of two methods; special auger kit or hot wire ice thickness gauge. "
   ]
  },
  {
   "cell_type": "markdown",
   "metadata": {},
   "source": [
    "# Exploratory analysis of Ice Thickness\n",
    "\n",
    "To better understand our data and to determine how to sample it we explored: \n",
    "- Number of ice thickness measurements per date\n",
    "- Number of stations per date\n",
    "- General change in ice thickness over time\n",
    "- Distribution of ice thickness over all time\n",
    "- Distribution of ice thickness for each date of interest\n",
    "- Determine if there are outliers in the ice thickness measurements\n",
    "\n",
    "We removed records with `Measurement Method` not equal to 1 in order to make sure the measurement method we are looking at is consistent. \n",
    "We also removed all records missing an `Ice Thickness` measurement.\n",
    "\n",
    "We then grouped the observations by station and month and took we mean of these values so we now have observations at a monthly frequency for every station in the data. This allows us to move forward with our analysis to compare the medians of these monthly station averages."
   ]
  },
  {
   "cell_type": "markdown",
   "metadata": {},
   "source": [
    "### Median thickness over time by year\n",
    "\n",
    "The below figure shows the median ice thicknesses of the monthly station averages for 1981 to 2002. Excluding the year 2002, there looks to be a downward trend from the earlier years where the median thickness is around 90 centimeters to the later years where it hovers around 60-70 centimeters. Our analysis aims to validate this trend and determine if the downward trend is statistically significant."
   ]
  },
  {
   "cell_type": "markdown",
   "metadata": {},
   "source": [
    "<img src=\"EDA_notebook_visuals/median_thickness_year.png\">"
   ]
  },
  {
   "cell_type": "markdown",
   "metadata": {},
   "source": [
    "### Distribution of the monthly data\n",
    "\n",
    "#### Boxplot of mean ice thickness\n",
    "We looked at boxplots of the observations by month There are not many observations that seem out of place. The distributions vary by month quite significantly, with the highest mean thickness in June. "
   ]
  },
  {
   "cell_type": "markdown",
   "metadata": {},
   "source": [
    "<img src=\"EDA_notebook_visuals/month_boxplot.png\">"
   ]
  },
  {
   "cell_type": "markdown",
   "metadata": {},
   "source": [
    "#### Bar chart to show monthly distribution"
   ]
  },
  {
   "cell_type": "markdown",
   "metadata": {},
   "source": [
    "The figure below looks at the distribution of thickness measurements over each month. The distribution over all time and the distributions per year are right skewed. The shape of the distributions by month vary from month to month. We also see that that the months with the highest mean ice thickness are also those with the fewest observations and likely would not be great months to include in our analysis as they lack observations for a large sample. Months 1 (January), 2 February) and 3 (March) have a sufficient amount of observations for our study."
   ]
  },
  {
   "cell_type": "markdown",
   "metadata": {},
   "source": [
    "<img src=\"EDA_notebook_visuals/ice_histogram.png\">"
   ]
  },
  {
   "cell_type": "markdown",
   "metadata": {},
   "source": [
    "#### Exploring distributions in key months\n",
    "\n",
    "Looking at the below figures, we have the distribution of ice thickness observations (monthly station averages) for the 1984 (red) and 1996 (blue). The three charts shows these distributions for each of January, February and March separately. We do this because we are curious as to whether the difference in median thickness of ice is subject to a certain month or whether this difference is present through all months. We can see that 1984 distribution has more mass to the right of the 1996, meaning more observations that record thicker ice. The pattern is present for all three months, however, January shows the sharpest example of this whereas the effect is less prominent in March. "
   ]
  },
  {
   "cell_type": "markdown",
   "metadata": {},
   "source": [
    "<img src=\"EDA_notebook_visuals/density.png\">"
   ]
  }
 ],
 "metadata": {
  "kernelspec": {
   "display_name": "Python 3",
   "language": "python",
   "name": "python3"
  },
  "language_info": {
   "codemirror_mode": {
    "name": "ipython",
    "version": 3
   },
   "file_extension": ".py",
   "mimetype": "text/x-python",
   "name": "python",
   "nbconvert_exporter": "python",
   "pygments_lexer": "ipython3",
   "version": "3.8.5"
  }
 },
 "nbformat": 4,
 "nbformat_minor": 4
}
